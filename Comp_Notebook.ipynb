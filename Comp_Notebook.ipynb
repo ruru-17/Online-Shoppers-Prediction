{
 "cells": [
  {
   "cell_type": "code",
   "execution_count": 1,
   "id": "37b1be6b",
   "metadata": {
    "_cell_guid": "b1076dfc-b9ad-4769-8c92-a6c4dae69d19",
    "_uuid": "8f2839f25d086af736a60e9eeb907d3b93b6e0e5",
    "execution": {
     "iopub.execute_input": "2025-02-09T12:13:14.708675Z",
     "iopub.status.busy": "2025-02-09T12:13:14.708222Z",
     "iopub.status.idle": "2025-02-09T12:13:24.818391Z",
     "shell.execute_reply": "2025-02-09T12:13:24.817073Z"
    },
    "papermill": {
     "duration": 10.11894,
     "end_time": "2025-02-09T12:13:24.820576",
     "exception": false,
     "start_time": "2025-02-09T12:13:14.701636",
     "status": "completed"
    },
    "tags": []
   },
   "outputs": [
    {
     "name": "stdout",
     "output_type": "stream",
     "text": [
      "/kaggle/input/online-shoppers-prediction-2402-mtl-782/kaggle_test.csv\n",
      "/kaggle/input/online-shoppers-prediction-2402-mtl-782/kaggle_train.csv\n"
     ]
    }
   ],
   "source": [
    "# This Python 3 environment comes with many helpful analytics libraries installed\n",
    "# It is defined by the kaggle/python Docker image: https://github.com/kaggle/docker-python\n",
    "# For example, here's several helpful packages to load\n",
    "\n",
    "import numpy as np # linear algebra\n",
    "import pandas as pd # data processing, CSV file I/O (e.g. pd.read_csv)\n",
    "from ydata_profiling import ProfileReport\n",
    "from sklearn.preprocessing import OneHotEncoder\n",
    "from sklearn.preprocessing import StandardScaler\n",
    "from sklearn.model_selection import train_test_split\n",
    "from sklearn.linear_model import LogisticRegression\n",
    "from sklearn.ensemble import RandomForestClassifier\n",
    "from sklearn.ensemble import GradientBoostingClassifier\n",
    "from sklearn.ensemble import StackingClassifier\n",
    "from sklearn.svm import SVC\n",
    "from sklearn.tree import DecisionTreeClassifier\n",
    "from sklearn.ensemble import AdaBoostClassifier\n",
    "from xgboost import XGBClassifier\n",
    "from imblearn.over_sampling import ADASYN, SMOTE\n",
    "from skopt import BayesSearchCV\n",
    "from sklearn.metrics import f1_score\n",
    "from sklearn.model_selection import StratifiedKFold, GridSearchCV\n",
    "from sklearn.model_selection import StratifiedShuffleSplit\n",
    "from skopt.space import Real, Integer, Categorical\n",
    "\n",
    "\n",
    "# Input data files are available in the read-only \"../input/\" directory\n",
    "# For example, running this (by clicking run or pressing Shift+Enter) will list all files under the input directory\n",
    "\n",
    "import os\n",
    "for dirname, _, filenames in os.walk('/kaggle/input'):\n",
    "    for filename in filenames:\n",
    "        print(os.path.join(dirname, filename))\n",
    "\n",
    "# You can write up to 20GB to the current directory (/kaggle/working/) that gets preserved as output when you create a version using \"Save & Run All\" \n",
    "# You can also write temporary files to /kaggle/temp/, but they won't be saved outside of the current session"
   ]
  },
  {
   "cell_type": "markdown",
   "id": "af3e14b3",
   "metadata": {
    "papermill": {
     "duration": 0.004435,
     "end_time": "2025-02-09T12:13:24.830055",
     "exception": false,
     "start_time": "2025-02-09T12:13:24.825620",
     "status": "completed"
    },
    "tags": []
   },
   "source": [
    "Load training data :"
   ]
  },
  {
   "cell_type": "code",
   "execution_count": 2,
   "id": "6471f172",
   "metadata": {
    "execution": {
     "iopub.execute_input": "2025-02-09T12:13:24.840604Z",
     "iopub.status.busy": "2025-02-09T12:13:24.839998Z",
     "iopub.status.idle": "2025-02-09T12:13:24.904910Z",
     "shell.execute_reply": "2025-02-09T12:13:24.903982Z"
    },
    "papermill": {
     "duration": 0.072271,
     "end_time": "2025-02-09T12:13:24.906844",
     "exception": false,
     "start_time": "2025-02-09T12:13:24.834573",
     "status": "completed"
    },
    "tags": []
   },
   "outputs": [],
   "source": [
    "path = \"/kaggle/input/online-shoppers-prediction-2402-mtl-782/kaggle_train.csv\"\n",
    "df = pd.read_csv(path, na_values='?')"
   ]
  },
  {
   "cell_type": "markdown",
   "id": "2ccf7da1",
   "metadata": {
    "papermill": {
     "duration": 0.004329,
     "end_time": "2025-02-09T12:13:24.915992",
     "exception": false,
     "start_time": "2025-02-09T12:13:24.911663",
     "status": "completed"
    },
    "tags": []
   },
   "source": [
    "Drop Duplicates :"
   ]
  },
  {
   "cell_type": "code",
   "execution_count": 3,
   "id": "03560651",
   "metadata": {
    "execution": {
     "iopub.execute_input": "2025-02-09T12:13:24.926357Z",
     "iopub.status.busy": "2025-02-09T12:13:24.926008Z",
     "iopub.status.idle": "2025-02-09T12:13:24.957473Z",
     "shell.execute_reply": "2025-02-09T12:13:24.956464Z"
    },
    "papermill": {
     "duration": 0.038809,
     "end_time": "2025-02-09T12:13:24.959293",
     "exception": false,
     "start_time": "2025-02-09T12:13:24.920484",
     "status": "completed"
    },
    "tags": []
   },
   "outputs": [],
   "source": [
    "df = df.drop_duplicates()\n"
   ]
  },
  {
   "cell_type": "code",
   "execution_count": 4,
   "id": "968e98f9",
   "metadata": {
    "execution": {
     "iopub.execute_input": "2025-02-09T12:13:24.969854Z",
     "iopub.status.busy": "2025-02-09T12:13:24.969465Z",
     "iopub.status.idle": "2025-02-09T12:13:24.973261Z",
     "shell.execute_reply": "2025-02-09T12:13:24.972249Z"
    },
    "papermill": {
     "duration": 0.010868,
     "end_time": "2025-02-09T12:13:24.975008",
     "exception": false,
     "start_time": "2025-02-09T12:13:24.964140",
     "status": "completed"
    },
    "tags": []
   },
   "outputs": [],
   "source": [
    "# df[\"Administrative_timeperpage\"] = df.apply(\n",
    "#     lambda row: 0 if row[\"Administrative\"] == 0 else row[\"Administrative_Duration\"] / row[\"Administrative\"],\n",
    "#     axis=1\n",
    "# )\n",
    "# df[\"Informational_timeperpage\"] = df.apply(\n",
    "#     lambda row: 0 if row[\"Informational\"] == 0 else row[\"Informational_Duration\"] / row[\"Informational\"],\n",
    "#     axis=1\n",
    "# )\n",
    "# df[\"ProductRelated_timeperpage\"] = df.apply(\n",
    "#     lambda row: 0 if row[\"ProductRelated\"] == 0 else row[\"ProductRelated_Duration\"] / row[\"ProductRelated\"],\n",
    "#     axis=1\n",
    "# )"
   ]
  },
  {
   "cell_type": "markdown",
   "id": "9958ebad",
   "metadata": {
    "papermill": {
     "duration": 0.004255,
     "end_time": "2025-02-09T12:13:24.984002",
     "exception": false,
     "start_time": "2025-02-09T12:13:24.979747",
     "status": "completed"
    },
    "tags": []
   },
   "source": [
    "Drop correated columns :"
   ]
  },
  {
   "cell_type": "code",
   "execution_count": 5,
   "id": "29ada631",
   "metadata": {
    "execution": {
     "iopub.execute_input": "2025-02-09T12:13:24.994341Z",
     "iopub.status.busy": "2025-02-09T12:13:24.993997Z",
     "iopub.status.idle": "2025-02-09T12:13:25.004973Z",
     "shell.execute_reply": "2025-02-09T12:13:25.003861Z"
    },
    "papermill": {
     "duration": 0.018266,
     "end_time": "2025-02-09T12:13:25.006820",
     "exception": false,
     "start_time": "2025-02-09T12:13:24.988554",
     "status": "completed"
    },
    "tags": []
   },
   "outputs": [],
   "source": [
    "features_to_remove = [\"Administrative_Duration\", \"Informational\", \"ProductRelated_Duration\"]\n",
    "df = df.drop(features_to_remove, axis = 1)"
   ]
  },
  {
   "cell_type": "code",
   "execution_count": 6,
   "id": "005cf857",
   "metadata": {
    "execution": {
     "iopub.execute_input": "2025-02-09T12:13:25.017193Z",
     "iopub.status.busy": "2025-02-09T12:13:25.016872Z",
     "iopub.status.idle": "2025-02-09T12:13:25.021033Z",
     "shell.execute_reply": "2025-02-09T12:13:25.020018Z"
    },
    "papermill": {
     "duration": 0.011301,
     "end_time": "2025-02-09T12:13:25.022759",
     "exception": false,
     "start_time": "2025-02-09T12:13:25.011458",
     "status": "completed"
    },
    "tags": []
   },
   "outputs": [],
   "source": [
    "categorical_features = [\"OperatingSystems\", \"Browser\", \"Region\", \"TrafficType\", \"VisitorType\", \"Weekend\", \"Month\"]\n",
    "# numerical_features = [\"Administrative\", \"Administrative_timeperpage\", \"Informational_Duration\",\"Informational_timeperpage\", \"ProductRelated\", \"ProductRelated_timeperpage\", \"BounceRates\", \"ExitRates\", \"PageValues\", \"SpecialDay\"]\n",
    "numerical_features = [\"Administrative\", \"Informational_Duration\", \"ProductRelated\", \"BounceRates\", \"ExitRates\", \"PageValues\", \"SpecialDay\"]\n",
    "# numerical_features = [\"Administrative\", \"Administrative_Duration\", \"Informational\", \"Informational_Duration\", \"ProductRelated\",\"ProductRelated_Duration\", \"BounceRates\", \"ExitRates\", \"PageValues\", \"SpecialDay\"]"
   ]
  },
  {
   "cell_type": "code",
   "execution_count": 7,
   "id": "ee7b6068",
   "metadata": {
    "execution": {
     "iopub.execute_input": "2025-02-09T12:13:25.035847Z",
     "iopub.status.busy": "2025-02-09T12:13:25.035469Z",
     "iopub.status.idle": "2025-02-09T12:13:25.046531Z",
     "shell.execute_reply": "2025-02-09T12:13:25.045593Z"
    },
    "papermill": {
     "duration": 0.020686,
     "end_time": "2025-02-09T12:13:25.048227",
     "exception": false,
     "start_time": "2025-02-09T12:13:25.027541",
     "status": "completed"
    },
    "tags": []
   },
   "outputs": [],
   "source": [
    "def label(val):\n",
    "    if (val == True):\n",
    "        return 1\n",
    "    return 0\n",
    "y = df[\"Revenue\"]\n",
    "y = y.apply(label)\n",
    "X = df.drop(columns = [\"Revenue\"])"
   ]
  },
  {
   "cell_type": "code",
   "execution_count": 8,
   "id": "d9d3f011",
   "metadata": {
    "execution": {
     "iopub.execute_input": "2025-02-09T12:13:25.058903Z",
     "iopub.status.busy": "2025-02-09T12:13:25.058522Z",
     "iopub.status.idle": "2025-02-09T12:13:25.099979Z",
     "shell.execute_reply": "2025-02-09T12:13:25.099062Z"
    },
    "papermill": {
     "duration": 0.048743,
     "end_time": "2025-02-09T12:13:25.101813",
     "exception": false,
     "start_time": "2025-02-09T12:13:25.053070",
     "status": "completed"
    },
    "tags": []
   },
   "outputs": [],
   "source": [
    "OH_encoder = OneHotEncoder(drop = 'first', handle_unknown='ignore', sparse_output=False)\n",
    "OH_cols = pd.DataFrame(OH_encoder.fit_transform(X[categorical_features]), columns=OH_encoder.get_feature_names_out())\n",
    "OH_cols.index = X.index"
   ]
  },
  {
   "cell_type": "code",
   "execution_count": 9,
   "id": "0c302b3c",
   "metadata": {
    "execution": {
     "iopub.execute_input": "2025-02-09T12:13:25.112565Z",
     "iopub.status.busy": "2025-02-09T12:13:25.112243Z",
     "iopub.status.idle": "2025-02-09T12:13:25.146807Z",
     "shell.execute_reply": "2025-02-09T12:13:25.145825Z"
    },
    "papermill": {
     "duration": 0.042052,
     "end_time": "2025-02-09T12:13:25.148755",
     "exception": false,
     "start_time": "2025-02-09T12:13:25.106703",
     "status": "completed"
    },
    "tags": []
   },
   "outputs": [],
   "source": [
    "Z_scaler = StandardScaler()\n",
    "Z_scaled_cols = pd.DataFrame(Z_scaler.fit_transform(X[numerical_features]), columns = numerical_features)\n",
    "Z_scaled_cols.index = X.index\n",
    "X = pd.concat([OH_cols, Z_scaled_cols], axis = 1)\n",
    "# X.head()"
   ]
  },
  {
   "cell_type": "markdown",
   "id": "62afea46",
   "metadata": {
    "papermill": {
     "duration": 0.004399,
     "end_time": "2025-02-09T12:13:25.157956",
     "exception": false,
     "start_time": "2025-02-09T12:13:25.153557",
     "status": "completed"
    },
    "tags": []
   },
   "source": [
    "ADASYN:"
   ]
  },
  {
   "cell_type": "code",
   "execution_count": 10,
   "id": "8a7c36fc",
   "metadata": {
    "execution": {
     "iopub.execute_input": "2025-02-09T12:13:25.168057Z",
     "iopub.status.busy": "2025-02-09T12:13:25.167630Z",
     "iopub.status.idle": "2025-02-09T12:13:25.171635Z",
     "shell.execute_reply": "2025-02-09T12:13:25.170570Z"
    },
    "papermill": {
     "duration": 0.010926,
     "end_time": "2025-02-09T12:13:25.173213",
     "exception": false,
     "start_time": "2025-02-09T12:13:25.162287",
     "status": "completed"
    },
    "tags": []
   },
   "outputs": [],
   "source": [
    "# adasyn = ADASYN(sampling_strategy=0.45, random_state = 1)\n",
    "# X, y = adasyn.fit_resample(X, y)\n",
    "# smote=SMOTE(sampling_strategy=0.47, random_state = 1) \n",
    "# X,y=smote.fit_resample(X,y)\n",
    "# X.head()"
   ]
  },
  {
   "cell_type": "code",
   "execution_count": 11,
   "id": "3a1b4229",
   "metadata": {
    "execution": {
     "iopub.execute_input": "2025-02-09T12:13:25.183962Z",
     "iopub.status.busy": "2025-02-09T12:13:25.183534Z",
     "iopub.status.idle": "2025-02-09T12:13:25.189160Z",
     "shell.execute_reply": "2025-02-09T12:13:25.188095Z"
    },
    "papermill": {
     "duration": 0.01299,
     "end_time": "2025-02-09T12:13:25.190961",
     "exception": false,
     "start_time": "2025-02-09T12:13:25.177971",
     "status": "completed"
    },
    "tags": []
   },
   "outputs": [],
   "source": [
    "# # # base_models = [ #ada 0.49\n",
    "# # #     ('rf', RandomForestClassifier(\n",
    "# # #         criterion='gini',\n",
    "# # #         max_depth=20,\n",
    "# # #         max_features='auto',\n",
    "# # #         min_samples_leaf=1,\n",
    "# # #         min_samples_split=2,\n",
    "# # #         n_estimators=300,\n",
    "# # #         random_state=42\n",
    "# # #     )),\n",
    "# # #     ('dt', DecisionTreeClassifier(\n",
    "# # #         criterion='gini',\n",
    "# # #         max_depth=1,\n",
    "# # #         min_samples_leaf=1,\n",
    "# # #         min_samples_split=7,\n",
    "# # #         random_state=42\n",
    "# # #     )),\n",
    "# # #     ('xgb', XGBClassifier(\n",
    "# # #         colsample_bytree=1.0,\n",
    "# # #         learning_rate=0.0700264447953816,\n",
    "# # #         max_depth=10,\n",
    "# # #         n_estimators=334,\n",
    "# # #         subsample=0.5,\n",
    "# # #         use_label_encoder=False,\n",
    "# # #         eval_metric='logloss',\n",
    "# # #         random_state=42\n",
    "# # #     ))\n",
    "# # # ]\n",
    "\n",
    "# test_path = \"/kaggle/input/online-shoppers-prediction-2402-mtl-782/kaggle_test.csv\"\n",
    "# X_test = pd.read_csv(test_path)\n",
    "# id = X_test.id\n",
    "# X_test = X_test.drop(columns=[\"id\"])\n",
    "\n",
    "# X_test = X_test.drop(features_to_remove, axis = 1)\n",
    "# OH_cols = pd.DataFrame(OH_encoder.transform(X_test[categorical_features]), columns=OH_encoder.get_feature_names_out())\n",
    "# OH_cols.index = X_test.index\n",
    "# X_test = pd.concat([X_test.drop(columns=categorical_features), OH_cols], axis = 1)\n",
    "\n",
    "# Z_scaled_cols = pd.DataFrame(Z_scaler.transform(X_test[numerical_features]), columns = numerical_features)\n",
    "# Z_scaled_cols.index = X_test.index\n",
    "# X_test = pd.concat([X_test.drop(columns= numerical_features), Z_scaled_cols], axis = 1)\n",
    "\n",
    "# base_model_test_predictions = pd.DataFrame()\n",
    "\n",
    "\n",
    "# base_models = [\n",
    "#     ('xgb', XGBClassifier(\n",
    "#          colsample_bytree=0.8421420062340929,\n",
    "#          learning_rate=0.031201547926466046,\n",
    "#          max_depth=3,\n",
    "#          n_estimators=249,\n",
    "#          subsample=1.0,\n",
    "#          use_label_encoder=False,\n",
    "#          # eval_metric='logloss',\n",
    "#          random_state=42\n",
    "#     )),\n",
    "#     ('dt', DecisionTreeClassifier(\n",
    "#          criterion='gini',\n",
    "#          max_depth=1,\n",
    "#          min_samples_leaf=1,\n",
    "#          min_samples_split=7,\n",
    "#          random_state=42\n",
    "#     )),\n",
    "#     ('adb', AdaBoostClassifier(\n",
    "#          learning_rate=0.02809367595717782,\n",
    "#          n_estimators=3,\n",
    "#          random_state=42\n",
    "#     )),\n",
    "#     ('rf', RandomForestClassifier(\n",
    "#          criterion='entropy',\n",
    "#          max_depth=None,\n",
    "#          max_features='auto',\n",
    "#          min_samples_leaf=1,\n",
    "#          min_samples_split=8,\n",
    "#          n_estimators=300,\n",
    "#          random_state=42\n",
    "#     )),\n",
    "#     ('svm_lin', SVC(\n",
    "#          kernel = 'linear', C = 150, random_state=42, class_weight='balanced', probability=True\n",
    "#     ))\n",
    "#     ('svm_rbf', SVC(\n",
    "#         kernel = 'rbf', 'C'= 6.985988902587575, 'gamma'= 0.02944105776659468, class_weight='balanced', probability=True\n",
    "#     ))\n",
    "# ]\n",
    "\n",
    "\n",
    "# # Initialize variables\n",
    "# base_model_predictions = pd.DataFrame()\n",
    "\n",
    "# for model_name, model in base_models:\n",
    "#     print(f\"Training model: {model_name}\")\n",
    "    \n",
    "#     # Train the model\n",
    "#     model.fit(X, y)\n",
    "    \n",
    "#     # Predict probabilities (use positive class probabilities)\n",
    "#     base_model_predictions[model_name] = model.predict(X)\n",
    "#     base_model_test_predictions[model_name] = model.predict(X_test)\n",
    "\n",
    "\n",
    "# # Combine all base model predictions and the target\n",
    "\n",
    "\n",
    "# # Define search space for logistic regression meta-model\n",
    "# param_space = {\n",
    "#     # Group 1: For L2 penalty\n",
    "#     {\n",
    "#         'penalty': Categorical(['l2']),\n",
    "#         'solver': Categorical(['lbfgs', 'liblinear', 'saga']),\n",
    "#         'C': Real(0.001, 100, prior='log-uniform'),\n",
    "#         'tol': Real(1e-5, 1e-3, prior='log-uniform')\n",
    "#     },\n",
    "#     # Group 2: For no penalty (penalty='none')\n",
    "#     {\n",
    "#         'penalty': Categorical(['none']),\n",
    "#         'solver': Categorical(['lbfgs', 'saga', 'newton-cg']),  # Adjusted solvers\n",
    "#         'tol': Real(1e-5, 1e-3, prior='log-uniform')\n",
    "#     }\n",
    "    \n",
    "#     # 'max_depth': Integer(1, 50),             # Maximum depth of the tree\n",
    "#     # 'min_samples_split': Integer(2, 20),       # Minimum number of samples required to split an internal node\n",
    "#     # 'min_samples_leaf': Integer(1, 20),        # Minimum number of samples required to be at a leaf node\n",
    "#     # 'criterion': Categorical(['gini', 'entropy'])\n",
    "# }\n",
    "\n",
    "\n",
    "# bayes_cv = BayesSearchCV(\n",
    "#     estimator=LogisticRegression(random_state=42, max_iter=1000, class_weight=\"balanced\"),\n",
    "#     search_spaces=param_space,\n",
    "#     n_iter=50,\n",
    "#     scoring='f1',\n",
    "#     cv=StratifiedKFold(n_splits=5, shuffle=True, random_state=42), \n",
    "#     n_jobs=-1,  \n",
    "#     random_state=1,\n",
    "#     verbose=4\n",
    "# )"
   ]
  },
  {
   "cell_type": "code",
   "execution_count": 12,
   "id": "9837430a",
   "metadata": {
    "execution": {
     "iopub.execute_input": "2025-02-09T12:13:25.201599Z",
     "iopub.status.busy": "2025-02-09T12:13:25.201242Z",
     "iopub.status.idle": "2025-02-09T12:13:25.214176Z",
     "shell.execute_reply": "2025-02-09T12:13:25.213078Z"
    },
    "papermill": {
     "duration": 0.02003,
     "end_time": "2025-02-09T12:13:25.215951",
     "exception": false,
     "start_time": "2025-02-09T12:13:25.195921",
     "status": "completed"
    },
    "tags": []
   },
   "outputs": [],
   "source": [
    "rf = RandomForestClassifier(random_state=42, class_weight=\"balanced\")\n",
    "\n",
    "param_space = {\n",
    "    'n_estimators': Integer(1, 300),             \n",
    "    'max_depth': Integer(1, 20),                  \n",
    "    'min_samples_split': Integer(2, 20),          \n",
    "    'min_samples_leaf': Integer(1, 20),           \n",
    "    'max_features': Categorical(['auto', 'sqrt', 'log2']),\n",
    "    'criterion': Categorical(['gini', 'entropy'])   \n",
    "}\n",
    "\n",
    "bayes_cv = BayesSearchCV(\n",
    "    estimator=rf,\n",
    "    search_spaces=param_space,\n",
    "    n_iter=50, \n",
    "    scoring='f1',\n",
    "    cv=StratifiedKFold(n_splits=5, shuffle=True, random_state=42), \n",
    "    n_jobs=-1,  \n",
    "    random_state=1,\n",
    "    verbose=4\n",
    ")"
   ]
  },
  {
   "cell_type": "code",
   "execution_count": 13,
   "id": "0c7680c7",
   "metadata": {
    "execution": {
     "iopub.execute_input": "2025-02-09T12:13:25.226586Z",
     "iopub.status.busy": "2025-02-09T12:13:25.226226Z",
     "iopub.status.idle": "2025-02-09T12:17:35.423038Z",
     "shell.execute_reply": "2025-02-09T12:17:35.422005Z"
    },
    "papermill": {
     "duration": 250.204257,
     "end_time": "2025-02-09T12:17:35.424916",
     "exception": false,
     "start_time": "2025-02-09T12:13:25.220659",
     "status": "completed"
    },
    "tags": []
   },
   "outputs": [
    {
     "name": "stdout",
     "output_type": "stream",
     "text": [
      "Fitting 5 folds for each of 1 candidates, totalling 5 fits\n",
      "Fitting 5 folds for each of 1 candidates, totalling 5 fits\n",
      "Fitting 5 folds for each of 1 candidates, totalling 5 fits\n",
      "Fitting 5 folds for each of 1 candidates, totalling 5 fits\n",
      "Fitting 5 folds for each of 1 candidates, totalling 5 fits\n",
      "Fitting 5 folds for each of 1 candidates, totalling 5 fits\n",
      "Fitting 5 folds for each of 1 candidates, totalling 5 fits\n",
      "Fitting 5 folds for each of 1 candidates, totalling 5 fits\n",
      "Fitting 5 folds for each of 1 candidates, totalling 5 fits\n",
      "Fitting 5 folds for each of 1 candidates, totalling 5 fits\n",
      "Fitting 5 folds for each of 1 candidates, totalling 5 fits\n",
      "Fitting 5 folds for each of 1 candidates, totalling 5 fits\n",
      "Fitting 5 folds for each of 1 candidates, totalling 5 fits\n",
      "Fitting 5 folds for each of 1 candidates, totalling 5 fits\n",
      "Fitting 5 folds for each of 1 candidates, totalling 5 fits\n",
      "Fitting 5 folds for each of 1 candidates, totalling 5 fits\n",
      "Fitting 5 folds for each of 1 candidates, totalling 5 fits\n",
      "Fitting 5 folds for each of 1 candidates, totalling 5 fits\n",
      "Fitting 5 folds for each of 1 candidates, totalling 5 fits\n",
      "Fitting 5 folds for each of 1 candidates, totalling 5 fits\n",
      "Fitting 5 folds for each of 1 candidates, totalling 5 fits\n",
      "Fitting 5 folds for each of 1 candidates, totalling 5 fits\n",
      "Fitting 5 folds for each of 1 candidates, totalling 5 fits\n",
      "Fitting 5 folds for each of 1 candidates, totalling 5 fits\n",
      "Fitting 5 folds for each of 1 candidates, totalling 5 fits\n",
      "Fitting 5 folds for each of 1 candidates, totalling 5 fits\n",
      "Fitting 5 folds for each of 1 candidates, totalling 5 fits\n",
      "Fitting 5 folds for each of 1 candidates, totalling 5 fits\n",
      "Fitting 5 folds for each of 1 candidates, totalling 5 fits\n",
      "Fitting 5 folds for each of 1 candidates, totalling 5 fits\n",
      "Fitting 5 folds for each of 1 candidates, totalling 5 fits\n",
      "Fitting 5 folds for each of 1 candidates, totalling 5 fits\n",
      "Fitting 5 folds for each of 1 candidates, totalling 5 fits\n",
      "Fitting 5 folds for each of 1 candidates, totalling 5 fits\n",
      "Fitting 5 folds for each of 1 candidates, totalling 5 fits\n",
      "Fitting 5 folds for each of 1 candidates, totalling 5 fits\n",
      "Fitting 5 folds for each of 1 candidates, totalling 5 fits\n",
      "Fitting 5 folds for each of 1 candidates, totalling 5 fits\n",
      "Fitting 5 folds for each of 1 candidates, totalling 5 fits\n",
      "Fitting 5 folds for each of 1 candidates, totalling 5 fits\n",
      "Fitting 5 folds for each of 1 candidates, totalling 5 fits\n",
      "Fitting 5 folds for each of 1 candidates, totalling 5 fits\n",
      "Fitting 5 folds for each of 1 candidates, totalling 5 fits\n",
      "Fitting 5 folds for each of 1 candidates, totalling 5 fits\n",
      "Fitting 5 folds for each of 1 candidates, totalling 5 fits\n",
      "Fitting 5 folds for each of 1 candidates, totalling 5 fits\n",
      "Fitting 5 folds for each of 1 candidates, totalling 5 fits\n",
      "Fitting 5 folds for each of 1 candidates, totalling 5 fits\n",
      "Fitting 5 folds for each of 1 candidates, totalling 5 fits\n",
      "Fitting 5 folds for each of 1 candidates, totalling 5 fits\n"
     ]
    },
    {
     "name": "stderr",
     "output_type": "stream",
     "text": [
      "/usr/local/lib/python3.10/dist-packages/sklearn/ensemble/_forest.py:424: FutureWarning: `max_features='auto'` has been deprecated in 1.1 and will be removed in 1.3. To keep the past behaviour, explicitly set `max_features='sqrt'` or remove this parameter as it is also the default value for RandomForestClassifiers and ExtraTreesClassifiers.\n",
      "  warn(\n"
     ]
    },
    {
     "name": "stdout",
     "output_type": "stream",
     "text": [
      "Best Parameters: OrderedDict([('criterion', 'gini'), ('max_depth', 20), ('max_features', 'auto'), ('min_samples_leaf', 6), ('min_samples_split', 2), ('n_estimators', 296)])\n"
     ]
    },
    {
     "data": {
      "image/png": "[encoded data removed]",
      "text/plain": [
       "<Figure size 640x480 with 1 Axes>"
      ]
     },
     "metadata": {},
     "output_type": "display_data"
    }
   ],
   "source": [
    "bayes_cv.fit(X, y)\n",
    "print(\"Best Parameters:\", bayes_cv.best_params_)\n",
    "import matplotlib.pyplot as plt\n",
    "plt.plot(bayes_cv.cv_results_['mean_test_score'])\n",
    "plt.xlabel('Iteration')\n",
    "plt.ylabel('Mean F1-Score')\n",
    "plt.title('Convergence Plot')\n",
    "plt.show()"
   ]
  },
  {
   "cell_type": "code",
   "execution_count": 14,
   "id": "d4b9e582",
   "metadata": {
    "execution": {
     "iopub.execute_input": "2025-02-09T12:17:35.442259Z",
     "iopub.status.busy": "2025-02-09T12:17:35.441919Z",
     "iopub.status.idle": "2025-02-09T12:17:35.494822Z",
     "shell.execute_reply": "2025-02-09T12:17:35.493569Z"
    },
    "papermill": {
     "duration": 0.063741,
     "end_time": "2025-02-09T12:17:35.496698",
     "exception": false,
     "start_time": "2025-02-09T12:17:35.432957",
     "status": "completed"
    },
    "tags": []
   },
   "outputs": [
    {
     "name": "stdout",
     "output_type": "stream",
     "text": [
      "   id  Administrative  Administrative_Duration  Informational  \\\n",
      "0   0               3               142.500000              0   \n",
      "1   1               6               437.391304              2   \n",
      "2   2               1                41.125000              0   \n",
      "3   3               2               141.000000              0   \n",
      "4   4              18               608.140000              6   \n",
      "\n",
      "   Informational_Duration  ProductRelated  ProductRelated_Duration  \\\n",
      "0                    0.00              48              1052.255952   \n",
      "1                  235.55              83              2503.881781   \n",
      "2                    0.00             126              4310.004668   \n",
      "3                    0.00              10               606.666667   \n",
      "4                  733.80             168              4948.398759   \n",
      "\n",
      "   BounceRates  ExitRates  PageValues  SpecialDay Month  OperatingSystems  \\\n",
      "0     0.004348   0.013043    0.000000         0.0   Nov                 1   \n",
      "1     0.002198   0.004916    2.086218         0.0   Mar                 2   \n",
      "2     0.000688   0.012823    3.451072         0.0   Nov                 2   \n",
      "3     0.008333   0.026389   36.672294         0.0   Aug                 2   \n",
      "4     0.006632   0.013528   10.150644         0.0   Aug                 2   \n",
      "\n",
      "   Browser  Region  TrafficType        VisitorType  Weekend  \n",
      "0        8       6           11  Returning_Visitor    False  \n",
      "1        2       3            2  Returning_Visitor    False  \n",
      "2        2       2            2  Returning_Visitor    False  \n",
      "3        5       7            4  Returning_Visitor    False  \n",
      "4        2       3            1  Returning_Visitor     True  \n"
     ]
    }
   ],
   "source": [
    "test_path = \"/kaggle/input/online-shoppers-prediction-2402-mtl-782/kaggle_test.csv\"\n",
    "X_test = pd.read_csv(test_path)\n",
    "print(X_test.head())\n",
    "X_test.describe()\n",
    "id = X_test.id\n",
    "X_test = X_test.drop(columns=[\"id\"])\n",
    "# X_test[\"Administrative_timeperpage\"] = X_test.apply(\n",
    "#     lambda row: 0 if row[\"Administrative_Duration\"] == 0 else row[\"Administrative\"] / row[\"Administrative_Duration\"],\n",
    "#     axis=1\n",
    "# )\n",
    "# X_test[\"Informational_timeperpage\"] = X_test.apply(\n",
    "#     lambda row: 0 if row[\"Informational_Duration\"] == 0 else row[\"Informational\"] / row[\"Informational_Duration\"],\n",
    "#     axis=1\n",
    "# )\n",
    "# X_test[\"ProductRelated_timeperpage\"] = X_test.apply(\n",
    "#     lambda row: 0 if row[\"ProductRelated_Duration\"] == 0 else row[\"ProductRelated\"] / row[\"ProductRelated_Duration\"],\n",
    "#     axis=1\n",
    "# )"
   ]
  },
  {
   "cell_type": "code",
   "execution_count": 15,
   "id": "2688d662",
   "metadata": {
    "execution": {
     "iopub.execute_input": "2025-02-09T12:17:35.514311Z",
     "iopub.status.busy": "2025-02-09T12:17:35.513982Z",
     "iopub.status.idle": "2025-02-09T12:17:35.531789Z",
     "shell.execute_reply": "2025-02-09T12:17:35.530957Z"
    },
    "papermill": {
     "duration": 0.028471,
     "end_time": "2025-02-09T12:17:35.533587",
     "exception": false,
     "start_time": "2025-02-09T12:17:35.505116",
     "status": "completed"
    },
    "tags": []
   },
   "outputs": [],
   "source": [
    "X_test = X_test.drop(features_to_remove, axis = 1)\n",
    "OH_cols = pd.DataFrame(OH_encoder.transform(X_test[categorical_features]), columns=OH_encoder.get_feature_names_out())\n",
    "OH_cols.index = X_test.index\n",
    "X_test = pd.concat([X_test.drop(columns=categorical_features), OH_cols], axis = 1)\n",
    "\n",
    "Z_scaled_cols = pd.DataFrame(Z_scaler.transform(X_test[numerical_features]), columns = numerical_features)\n",
    "Z_scaled_cols.index = X_test.index\n",
    "X_test = pd.concat([X_test.drop(columns= numerical_features), Z_scaled_cols], axis = 1)"
   ]
  },
  {
   "cell_type": "code",
   "execution_count": 16,
   "id": "30f20aea",
   "metadata": {
    "execution": {
     "iopub.execute_input": "2025-02-09T12:17:35.551161Z",
     "iopub.status.busy": "2025-02-09T12:17:35.550818Z",
     "iopub.status.idle": "2025-02-09T12:17:35.625752Z",
     "shell.execute_reply": "2025-02-09T12:17:35.624858Z"
    },
    "papermill": {
     "duration": 0.085786,
     "end_time": "2025-02-09T12:17:35.627610",
     "exception": false,
     "start_time": "2025-02-09T12:17:35.541824",
     "status": "completed"
    },
    "tags": []
   },
   "outputs": [],
   "source": [
    "y_pred = bayes_cv.predict(X_test)\n",
    "# y_pred = bayes_cv.predict(base_model_test_predictions)"
   ]
  },
  {
   "cell_type": "code",
   "execution_count": 17,
   "id": "558fe6c3",
   "metadata": {
    "execution": {
     "iopub.execute_input": "2025-02-09T12:17:35.646832Z",
     "iopub.status.busy": "2025-02-09T12:17:35.646452Z",
     "iopub.status.idle": "2025-02-09T12:17:35.656390Z",
     "shell.execute_reply": "2025-02-09T12:17:35.655599Z"
    },
    "papermill": {
     "duration": 0.021567,
     "end_time": "2025-02-09T12:17:35.658148",
     "exception": false,
     "start_time": "2025-02-09T12:17:35.636581",
     "status": "completed"
    },
    "tags": []
   },
   "outputs": [],
   "source": [
    "results_df = pd.DataFrame({\n",
    "    'id': id,  \n",
    "    'Revenue': y_pred  \n",
    "})\n",
    "results_df.to_csv('submission.csv', index=False) "
   ]
  }
 ],
 "metadata": {
  "kaggle": {
   "accelerator": "none",
   "dataSources": [
    {
     "databundleVersionId": 10923750,
     "sourceId": 91951,
     "sourceType": "competition"
    }
   ],
   "dockerImageVersionId": 30839,
   "isGpuEnabled": false,
   "isInternetEnabled": false,
   "language": "python",
   "sourceType": "notebook"
  },
  "kernelspec": {
   "display_name": "Python 3",
   "language": "python",
   "name": "python3"
  },
  "language_info": {
   "codemirror_mode": {
    "name": "ipython",
    "version": 3
   },
   "file_extension": ".py",
   "mimetype": "text/x-python",
   "name": "python",
   "nbconvert_exporter": "python",
   "pygments_lexer": "ipython3",
   "version": "3.10.12"
  },
  "papermill": {
   "default_parameters": {},
   "duration": 265.196899,
   "end_time": "2025-02-09T12:17:36.892431",
   "environment_variables": {},
   "exception": null,
   "input_path": "__notebook__.ipynb",
   "output_path": "__notebook__.ipynb",
   "parameters": {},
   "start_time": "2025-02-09T12:13:11.695532",
   "version": "2.6.0"
  }
 },
 "nbformat": 4,
 "nbformat_minor": 5
}
